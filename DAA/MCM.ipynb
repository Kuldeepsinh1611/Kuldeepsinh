{
 "cells": [
  {
   "cell_type": "code",
   "execution_count": 31,
   "id": "7900a5f0-3dbb-4383-9f33-19f0147103a7",
   "metadata": {},
   "outputs": [
    {
     "name": "stdin",
     "output_type": "stream",
     "text": [
      "enter Number Of Matrix 4\n",
      "Enter P0:  5\n",
      "Enter P1:  4\n",
      "Enter P2:  6\n",
      "Enter P3:  2\n",
      "Enter P4:  7\n"
     ]
    },
    {
     "name": "stdout",
     "output_type": "stream",
     "text": [
      "[[  0. 120.  88. 158.]\n",
      " [  1.   0.  48. 104.]\n",
      " [  1.   2.   0.  84.]\n",
      " [  3.   3.   3.   0.]]\n"
     ]
    },
    {
     "ename": "IndexError",
     "evalue": "index 4 is out of bounds for axis 0 with size 4",
     "output_type": "error",
     "traceback": [
      "\u001b[1;31m---------------------------------------------------------------------------\u001b[0m",
      "\u001b[1;31mIndexError\u001b[0m                                Traceback (most recent call last)",
      "Cell \u001b[1;32mIn[31], line 28\u001b[0m\n\u001b[0;32m     25\u001b[0m \u001b[38;5;28;01mfor\u001b[39;00m c \u001b[38;5;129;01min\u001b[39;00m \u001b[38;5;28mrange\u001b[39m(\u001b[38;5;241m65\u001b[39m,\u001b[38;5;241m65\u001b[39m\u001b[38;5;241m+\u001b[39mnum_mat):\n\u001b[0;32m     26\u001b[0m     ch\u001b[38;5;241m.\u001b[39mappend(\u001b[38;5;28mchr\u001b[39m(c))\n\u001b[1;32m---> 28\u001b[0m ans\u001b[38;5;241m=\u001b[39m\u001b[43mchain\u001b[49m\u001b[43m(\u001b[49m\u001b[38;5;241;43m3\u001b[39;49m\u001b[43m,\u001b[49m\u001b[38;5;241;43m0\u001b[39;49m\u001b[43m,\u001b[49m\u001b[38;5;241;43m3\u001b[39;49m\u001b[43m)\u001b[49m\n\u001b[0;32m     29\u001b[0m \u001b[38;5;66;03m# for s in range(num_mat-1):\u001b[39;00m\n\u001b[0;32m     30\u001b[0m \u001b[38;5;66;03m#     if m[i][j]>num_mat/2:\u001b[39;00m\n\u001b[0;32m     31\u001b[0m \u001b[38;5;66;03m#         ans.append(ch[i])\u001b[39;00m\n\u001b[1;32m   (...)\u001b[0m\n\u001b[0;32m     36\u001b[0m \u001b[38;5;66;03m#     else:\u001b[39;00m\n\u001b[0;32m     37\u001b[0m \u001b[38;5;66;03m#         pass\u001b[39;00m\n\u001b[0;32m     38\u001b[0m \u001b[38;5;28mprint\u001b[39m(ans)\n",
      "Cell \u001b[1;32mIn[29], line 6\u001b[0m, in \u001b[0;36mchain\u001b[1;34m(i, j, l)\u001b[0m\n\u001b[0;32m      4\u001b[0m     \u001b[38;5;28;01mreturn\u001b[39;00m [ch[i:i\u001b[38;5;241m+\u001b[39mn]]\n\u001b[0;32m      5\u001b[0m \u001b[38;5;28;01melif\u001b[39;00m n\u001b[38;5;241m>\u001b[39m\u001b[38;5;241m=\u001b[39ml:\n\u001b[1;32m----> 6\u001b[0m     \u001b[38;5;28;01mreturn\u001b[39;00m \u001b[43mchain\u001b[49m\u001b[43m(\u001b[49m\u001b[43mi\u001b[49m\u001b[43m,\u001b[49m\u001b[43mj\u001b[49m\u001b[38;5;241;43m-\u001b[39;49m\u001b[38;5;241;43m1\u001b[39;49m\u001b[43m,\u001b[49m\u001b[43ml\u001b[49m\u001b[38;5;241;43m-\u001b[39;49m\u001b[38;5;241;43m1\u001b[39;49m\u001b[43m)\u001b[49m \n\u001b[0;32m      7\u001b[0m \u001b[38;5;28;01melif\u001b[39;00m n\u001b[38;5;241m<\u001b[39ml:\n\u001b[0;32m      8\u001b[0m     \u001b[38;5;28;01mreturn\u001b[39;00m chain(i\u001b[38;5;241m+\u001b[39m\u001b[38;5;241m1\u001b[39m,j,l\u001b[38;5;241m-\u001b[39m\u001b[38;5;241m1\u001b[39m)\n",
      "Cell \u001b[1;32mIn[29], line 8\u001b[0m, in \u001b[0;36mchain\u001b[1;34m(i, j, l)\u001b[0m\n\u001b[0;32m      6\u001b[0m     \u001b[38;5;28;01mreturn\u001b[39;00m chain(i,j\u001b[38;5;241m-\u001b[39m\u001b[38;5;241m1\u001b[39m,l\u001b[38;5;241m-\u001b[39m\u001b[38;5;241m1\u001b[39m) \n\u001b[0;32m      7\u001b[0m \u001b[38;5;28;01melif\u001b[39;00m n\u001b[38;5;241m<\u001b[39ml:\n\u001b[1;32m----> 8\u001b[0m     \u001b[38;5;28;01mreturn\u001b[39;00m \u001b[43mchain\u001b[49m\u001b[43m(\u001b[49m\u001b[43mi\u001b[49m\u001b[38;5;241;43m+\u001b[39;49m\u001b[38;5;241;43m1\u001b[39;49m\u001b[43m,\u001b[49m\u001b[43mj\u001b[49m\u001b[43m,\u001b[49m\u001b[43ml\u001b[49m\u001b[38;5;241;43m-\u001b[39;49m\u001b[38;5;241;43m1\u001b[39;49m\u001b[43m)\u001b[49m\n",
      "Cell \u001b[1;32mIn[29], line 2\u001b[0m, in \u001b[0;36mchain\u001b[1;34m(i, j, l)\u001b[0m\n\u001b[0;32m      1\u001b[0m \u001b[38;5;28;01mdef\u001b[39;00m \u001b[38;5;21mchain\u001b[39m(i,j,l):\n\u001b[1;32m----> 2\u001b[0m     n\u001b[38;5;241m=\u001b[39m\u001b[38;5;28mint\u001b[39m(\u001b[43mm\u001b[49m\u001b[43m[\u001b[49m\u001b[43mi\u001b[49m\u001b[43m]\u001b[49m[j])\n\u001b[0;32m      3\u001b[0m     \u001b[38;5;28;01mif\u001b[39;00m n\u001b[38;5;241m==\u001b[39m\u001b[38;5;241m1\u001b[39m \u001b[38;5;129;01mor\u001b[39;00m n\u001b[38;5;241m==\u001b[39m\u001b[38;5;241m2\u001b[39m:\n\u001b[0;32m      4\u001b[0m         \u001b[38;5;28;01mreturn\u001b[39;00m [ch[i:i\u001b[38;5;241m+\u001b[39mn]]\n",
      "\u001b[1;31mIndexError\u001b[0m: index 4 is out of bounds for axis 0 with size 4"
     ]
    }
   ],
   "source": [
    "import numpy as np\n",
    "num_mat=int(input('enter Number Of Matrix'))\n",
    "m=np.zeros(num_mat**2).reshape(-1,num_mat)\n",
    "p=[]\n",
    "for i in range(num_mat+1):\n",
    "    p.append(int(input(f'Enter P{i}: ')))\n",
    "    \n",
    "for l in range(num_mat):\n",
    "    for i in range(num_mat):\n",
    "        for j in range(num_mat):\n",
    "            if i==j:\n",
    "                m[i][j]=0\n",
    "            elif j-i==l:\n",
    "                minimum,k=0,0\n",
    "                for k1 in range(i,j):\n",
    "                    s=m[i][k1]+m[k1+1][j]+p[i]*p[k1+1]*p[j+1]\n",
    "                    if s<minimum or minimum==0:\n",
    "                        minimum=s\n",
    "                        k=k1\n",
    "                m[i][j]=minimum\n",
    "                m[j][i]=k+1\n",
    "print(m)\n",
    "i,j=0,num_mat-1\n",
    "ans,ch=[],[]\n",
    "for c in range(65,65+num_mat):\n",
    "    ch.append(chr(c))\n",
    "\n",
    "ans=chain(3,0,3)\n",
    "# for s in range(num_mat-1):\n",
    "#     if m[i][j]>num_mat/2:\n",
    "#         ans.append(ch[i])\n",
    "#         j-=1\n",
    "#     elif m[i][j]<num_mat/2:\n",
    "#         ans.append(ch[i:i+m[i][j]])\n",
    "#         i+=1\n",
    "#     else:\n",
    "#         pass\n",
    "print(ans)"
   ]
  },
  {
   "cell_type": "code",
   "execution_count": 29,
   "id": "1883bd3f-110c-436f-912f-665c757425e7",
   "metadata": {},
   "outputs": [],
   "source": [
    "def chain(i,j,l):\n",
    "    n=int(m[i][j])\n",
    "    if n==1 or n==2:\n",
    "        ans.[ch[i:i+n]]\n",
    "    elif n>=l:\n",
    "        return chain(i,j-1,l-1) \n",
    "    elif n<l:\n",
    "        return chain(i+1,j,l-1)"
   ]
  },
  {
   "cell_type": "code",
   "execution_count": null,
   "id": "9581211e-ad5b-4306-8b2f-0f032dc961f6",
   "metadata": {},
   "outputs": [],
   "source": []
  }
 ],
 "metadata": {
  "kernelspec": {
   "display_name": "Python 3 (ipykernel)",
   "language": "python",
   "name": "python3"
  },
  "language_info": {
   "codemirror_mode": {
    "name": "ipython",
    "version": 3
   },
   "file_extension": ".py",
   "mimetype": "text/x-python",
   "name": "python",
   "nbconvert_exporter": "python",
   "pygments_lexer": "ipython3",
   "version": "3.12.2"
  }
 },
 "nbformat": 4,
 "nbformat_minor": 5
}
